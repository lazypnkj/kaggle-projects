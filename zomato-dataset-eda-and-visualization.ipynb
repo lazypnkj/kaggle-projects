{
 "cells": [
  {
   "cell_type": "code",
   "execution_count": 1,
   "id": "1c791c79",
   "metadata": {
    "_cell_guid": "b1076dfc-b9ad-4769-8c92-a6c4dae69d19",
    "_uuid": "8f2839f25d086af736a60e9eeb907d3b93b6e0e5",
    "execution": {
     "iopub.execute_input": "2023-01-05T11:07:41.757159Z",
     "iopub.status.busy": "2023-01-05T11:07:41.756410Z",
     "iopub.status.idle": "2023-01-05T11:07:41.779958Z",
     "shell.execute_reply": "2023-01-05T11:07:41.779015Z"
    },
    "papermill": {
     "duration": 0.044113,
     "end_time": "2023-01-05T11:07:41.783515",
     "exception": false,
     "start_time": "2023-01-05T11:07:41.739402",
     "status": "completed"
    },
    "tags": []
   },
   "outputs": [
    {
     "name": "stdout",
     "output_type": "stream",
     "text": [
      "/kaggle/input/zomato-dataset/zomato.csv\n"
     ]
    }
   ],
   "source": [
    "# This Python 3 environment comes with many helpful analytics libraries installed\n",
    "# It is defined by the kaggle/python Docker image: https://github.com/kaggle/docker-python\n",
    "# For example, here's several helpful packages to load\n",
    "\n",
    "import numpy as np # linear algebra\n",
    "import pandas as pd # data processing, CSV file I/O (e.g. pd.read_csv)\n",
    "\n",
    "# Input data files are available in the read-only \"../input/\" directory\n",
    "# For example, running this (by clicking run or pressing Shift+Enter) will list all files under the input directory\n",
    "\n",
    "import os\n",
    "for dirname, _, filenames in os.walk('/kaggle/input'):\n",
    "    for filename in filenames:\n",
    "        print(os.path.join(dirname, filename))\n",
    "\n",
    "# You can write up to 20GB to the current directory (/kaggle/working/) that gets preserved as output when you create a version using \"Save & Run All\" \n",
    "# You can also write temporary files to /kaggle/temp/, but they won't be saved outside of the current session"
   ]
  },
  {
   "cell_type": "code",
   "execution_count": 2,
   "id": "8edfc36d",
   "metadata": {
    "execution": {
     "iopub.execute_input": "2023-01-05T11:07:41.814461Z",
     "iopub.status.busy": "2023-01-05T11:07:41.814029Z",
     "iopub.status.idle": "2023-01-05T11:07:54.050244Z",
     "shell.execute_reply": "2023-01-05T11:07:54.048567Z"
    },
    "papermill": {
     "duration": 12.255962,
     "end_time": "2023-01-05T11:07:54.053354",
     "exception": false,
     "start_time": "2023-01-05T11:07:41.797392",
     "status": "completed"
    },
    "tags": []
   },
   "outputs": [],
   "source": [
    "df1 = pd.read_csv('/kaggle/input/zomato-dataset/zomato.csv')\n",
    "df = df1.copy()"
   ]
  },
  {
   "cell_type": "code",
   "execution_count": 3,
   "id": "f91f04d5",
   "metadata": {
    "execution": {
     "iopub.execute_input": "2023-01-05T11:07:54.079890Z",
     "iopub.status.busy": "2023-01-05T11:07:54.079491Z",
     "iopub.status.idle": "2023-01-05T11:07:54.118859Z",
     "shell.execute_reply": "2023-01-05T11:07:54.117468Z"
    },
    "papermill": {
     "duration": 0.055465,
     "end_time": "2023-01-05T11:07:54.121482",
     "exception": false,
     "start_time": "2023-01-05T11:07:54.066017",
     "status": "completed"
    },
    "tags": []
   },
   "outputs": [
    {
     "data": {
      "text/html": [
       "<div>\n",
       "<style scoped>\n",
       "    .dataframe tbody tr th:only-of-type {\n",
       "        vertical-align: middle;\n",
       "    }\n",
       "\n",
       "    .dataframe tbody tr th {\n",
       "        vertical-align: top;\n",
       "    }\n",
       "\n",
       "    .dataframe thead th {\n",
       "        text-align: right;\n",
       "    }\n",
       "</style>\n",
       "<table border=\"1\" class=\"dataframe\">\n",
       "  <thead>\n",
       "    <tr style=\"text-align: right;\">\n",
       "      <th></th>\n",
       "      <th>url</th>\n",
       "      <th>address</th>\n",
       "      <th>name</th>\n",
       "      <th>online_order</th>\n",
       "      <th>book_table</th>\n",
       "      <th>rate</th>\n",
       "      <th>votes</th>\n",
       "      <th>phone</th>\n",
       "      <th>location</th>\n",
       "      <th>rest_type</th>\n",
       "      <th>dish_liked</th>\n",
       "      <th>cuisines</th>\n",
       "      <th>approx_cost(for two people)</th>\n",
       "      <th>reviews_list</th>\n",
       "      <th>menu_item</th>\n",
       "      <th>listed_in(type)</th>\n",
       "      <th>listed_in(city)</th>\n",
       "    </tr>\n",
       "  </thead>\n",
       "  <tbody>\n",
       "    <tr>\n",
       "      <th>0</th>\n",
       "      <td>https://www.zomato.com/bangalore/jalsa-banasha...</td>\n",
       "      <td>942, 21st Main Road, 2nd Stage, Banashankari, ...</td>\n",
       "      <td>Jalsa</td>\n",
       "      <td>Yes</td>\n",
       "      <td>Yes</td>\n",
       "      <td>4.1/5</td>\n",
       "      <td>775</td>\n",
       "      <td>080 42297555\\r\\n+91 9743772233</td>\n",
       "      <td>Banashankari</td>\n",
       "      <td>Casual Dining</td>\n",
       "      <td>Pasta, Lunch Buffet, Masala Papad, Paneer Laja...</td>\n",
       "      <td>North Indian, Mughlai, Chinese</td>\n",
       "      <td>800</td>\n",
       "      <td>[('Rated 4.0', 'RATED\\n  A beautiful place to ...</td>\n",
       "      <td>[]</td>\n",
       "      <td>Buffet</td>\n",
       "      <td>Banashankari</td>\n",
       "    </tr>\n",
       "    <tr>\n",
       "      <th>1</th>\n",
       "      <td>https://www.zomato.com/bangalore/spice-elephan...</td>\n",
       "      <td>2nd Floor, 80 Feet Road, Near Big Bazaar, 6th ...</td>\n",
       "      <td>Spice Elephant</td>\n",
       "      <td>Yes</td>\n",
       "      <td>No</td>\n",
       "      <td>4.1/5</td>\n",
       "      <td>787</td>\n",
       "      <td>080 41714161</td>\n",
       "      <td>Banashankari</td>\n",
       "      <td>Casual Dining</td>\n",
       "      <td>Momos, Lunch Buffet, Chocolate Nirvana, Thai G...</td>\n",
       "      <td>Chinese, North Indian, Thai</td>\n",
       "      <td>800</td>\n",
       "      <td>[('Rated 4.0', 'RATED\\n  Had been here for din...</td>\n",
       "      <td>[]</td>\n",
       "      <td>Buffet</td>\n",
       "      <td>Banashankari</td>\n",
       "    </tr>\n",
       "    <tr>\n",
       "      <th>2</th>\n",
       "      <td>https://www.zomato.com/SanchurroBangalore?cont...</td>\n",
       "      <td>1112, Next to KIMS Medical College, 17th Cross...</td>\n",
       "      <td>San Churro Cafe</td>\n",
       "      <td>Yes</td>\n",
       "      <td>No</td>\n",
       "      <td>3.8/5</td>\n",
       "      <td>918</td>\n",
       "      <td>+91 9663487993</td>\n",
       "      <td>Banashankari</td>\n",
       "      <td>Cafe, Casual Dining</td>\n",
       "      <td>Churros, Cannelloni, Minestrone Soup, Hot Choc...</td>\n",
       "      <td>Cafe, Mexican, Italian</td>\n",
       "      <td>800</td>\n",
       "      <td>[('Rated 3.0', \"RATED\\n  Ambience is not that ...</td>\n",
       "      <td>[]</td>\n",
       "      <td>Buffet</td>\n",
       "      <td>Banashankari</td>\n",
       "    </tr>\n",
       "    <tr>\n",
       "      <th>3</th>\n",
       "      <td>https://www.zomato.com/bangalore/addhuri-udupi...</td>\n",
       "      <td>1st Floor, Annakuteera, 3rd Stage, Banashankar...</td>\n",
       "      <td>Addhuri Udupi Bhojana</td>\n",
       "      <td>No</td>\n",
       "      <td>No</td>\n",
       "      <td>3.7/5</td>\n",
       "      <td>88</td>\n",
       "      <td>+91 9620009302</td>\n",
       "      <td>Banashankari</td>\n",
       "      <td>Quick Bites</td>\n",
       "      <td>Masala Dosa</td>\n",
       "      <td>South Indian, North Indian</td>\n",
       "      <td>300</td>\n",
       "      <td>[('Rated 4.0', \"RATED\\n  Great food and proper...</td>\n",
       "      <td>[]</td>\n",
       "      <td>Buffet</td>\n",
       "      <td>Banashankari</td>\n",
       "    </tr>\n",
       "    <tr>\n",
       "      <th>4</th>\n",
       "      <td>https://www.zomato.com/bangalore/grand-village...</td>\n",
       "      <td>10, 3rd Floor, Lakshmi Associates, Gandhi Baza...</td>\n",
       "      <td>Grand Village</td>\n",
       "      <td>No</td>\n",
       "      <td>No</td>\n",
       "      <td>3.8/5</td>\n",
       "      <td>166</td>\n",
       "      <td>+91 8026612447\\r\\n+91 9901210005</td>\n",
       "      <td>Basavanagudi</td>\n",
       "      <td>Casual Dining</td>\n",
       "      <td>Panipuri, Gol Gappe</td>\n",
       "      <td>North Indian, Rajasthani</td>\n",
       "      <td>600</td>\n",
       "      <td>[('Rated 4.0', 'RATED\\n  Very good restaurant ...</td>\n",
       "      <td>[]</td>\n",
       "      <td>Buffet</td>\n",
       "      <td>Banashankari</td>\n",
       "    </tr>\n",
       "  </tbody>\n",
       "</table>\n",
       "</div>"
      ],
      "text/plain": [
       "                                                 url  \\\n",
       "0  https://www.zomato.com/bangalore/jalsa-banasha...   \n",
       "1  https://www.zomato.com/bangalore/spice-elephan...   \n",
       "2  https://www.zomato.com/SanchurroBangalore?cont...   \n",
       "3  https://www.zomato.com/bangalore/addhuri-udupi...   \n",
       "4  https://www.zomato.com/bangalore/grand-village...   \n",
       "\n",
       "                                             address                   name  \\\n",
       "0  942, 21st Main Road, 2nd Stage, Banashankari, ...                  Jalsa   \n",
       "1  2nd Floor, 80 Feet Road, Near Big Bazaar, 6th ...         Spice Elephant   \n",
       "2  1112, Next to KIMS Medical College, 17th Cross...        San Churro Cafe   \n",
       "3  1st Floor, Annakuteera, 3rd Stage, Banashankar...  Addhuri Udupi Bhojana   \n",
       "4  10, 3rd Floor, Lakshmi Associates, Gandhi Baza...          Grand Village   \n",
       "\n",
       "  online_order book_table   rate  votes                             phone  \\\n",
       "0          Yes        Yes  4.1/5    775    080 42297555\\r\\n+91 9743772233   \n",
       "1          Yes         No  4.1/5    787                      080 41714161   \n",
       "2          Yes         No  3.8/5    918                    +91 9663487993   \n",
       "3           No         No  3.7/5     88                    +91 9620009302   \n",
       "4           No         No  3.8/5    166  +91 8026612447\\r\\n+91 9901210005   \n",
       "\n",
       "       location            rest_type  \\\n",
       "0  Banashankari        Casual Dining   \n",
       "1  Banashankari        Casual Dining   \n",
       "2  Banashankari  Cafe, Casual Dining   \n",
       "3  Banashankari          Quick Bites   \n",
       "4  Basavanagudi        Casual Dining   \n",
       "\n",
       "                                          dish_liked  \\\n",
       "0  Pasta, Lunch Buffet, Masala Papad, Paneer Laja...   \n",
       "1  Momos, Lunch Buffet, Chocolate Nirvana, Thai G...   \n",
       "2  Churros, Cannelloni, Minestrone Soup, Hot Choc...   \n",
       "3                                        Masala Dosa   \n",
       "4                                Panipuri, Gol Gappe   \n",
       "\n",
       "                         cuisines approx_cost(for two people)  \\\n",
       "0  North Indian, Mughlai, Chinese                         800   \n",
       "1     Chinese, North Indian, Thai                         800   \n",
       "2          Cafe, Mexican, Italian                         800   \n",
       "3      South Indian, North Indian                         300   \n",
       "4        North Indian, Rajasthani                         600   \n",
       "\n",
       "                                        reviews_list menu_item  \\\n",
       "0  [('Rated 4.0', 'RATED\\n  A beautiful place to ...        []   \n",
       "1  [('Rated 4.0', 'RATED\\n  Had been here for din...        []   \n",
       "2  [('Rated 3.0', \"RATED\\n  Ambience is not that ...        []   \n",
       "3  [('Rated 4.0', \"RATED\\n  Great food and proper...        []   \n",
       "4  [('Rated 4.0', 'RATED\\n  Very good restaurant ...        []   \n",
       "\n",
       "  listed_in(type) listed_in(city)  \n",
       "0          Buffet    Banashankari  \n",
       "1          Buffet    Banashankari  \n",
       "2          Buffet    Banashankari  \n",
       "3          Buffet    Banashankari  \n",
       "4          Buffet    Banashankari  "
      ]
     },
     "execution_count": 3,
     "metadata": {},
     "output_type": "execute_result"
    }
   ],
   "source": [
    "df.head()"
   ]
  },
  {
   "cell_type": "code",
   "execution_count": 4,
   "id": "d7c0736d",
   "metadata": {
    "execution": {
     "iopub.execute_input": "2023-01-05T11:07:54.149642Z",
     "iopub.status.busy": "2023-01-05T11:07:54.149206Z",
     "iopub.status.idle": "2023-01-05T11:07:54.168503Z",
     "shell.execute_reply": "2023-01-05T11:07:54.167219Z"
    },
    "papermill": {
     "duration": 0.03685,
     "end_time": "2023-01-05T11:07:54.171321",
     "exception": false,
     "start_time": "2023-01-05T11:07:54.134471",
     "status": "completed"
    },
    "tags": []
   },
   "outputs": [],
   "source": [
    "df = df.drop(['address','phone','dish_liked','listed_in(city)','cuisines', 'reviews_list','menu_item'], axis = 1)\n"
   ]
  },
  {
   "cell_type": "markdown",
   "id": "baeb13c9",
   "metadata": {
    "papermill": {
     "duration": 0.012262,
     "end_time": "2023-01-05T11:07:54.196755",
     "exception": false,
     "start_time": "2023-01-05T11:07:54.184493",
     "status": "completed"
    },
    "tags": []
   },
   "source": [
    "Renaming the columns.- Not really required, we can work with the same column names. Will do it individually if required"
   ]
  },
  {
   "cell_type": "code",
   "execution_count": 5,
   "id": "d13a11fc",
   "metadata": {
    "execution": {
     "iopub.execute_input": "2023-01-05T11:07:54.223661Z",
     "iopub.status.busy": "2023-01-05T11:07:54.223240Z",
     "iopub.status.idle": "2023-01-05T11:07:54.240631Z",
     "shell.execute_reply": "2023-01-05T11:07:54.239267Z"
    },
    "papermill": {
     "duration": 0.03418,
     "end_time": "2023-01-05T11:07:54.243428",
     "exception": false,
     "start_time": "2023-01-05T11:07:54.209248",
     "status": "completed"
    },
    "tags": []
   },
   "outputs": [
    {
     "data": {
      "text/html": [
       "<div>\n",
       "<style scoped>\n",
       "    .dataframe tbody tr th:only-of-type {\n",
       "        vertical-align: middle;\n",
       "    }\n",
       "\n",
       "    .dataframe tbody tr th {\n",
       "        vertical-align: top;\n",
       "    }\n",
       "\n",
       "    .dataframe thead th {\n",
       "        text-align: right;\n",
       "    }\n",
       "</style>\n",
       "<table border=\"1\" class=\"dataframe\">\n",
       "  <thead>\n",
       "    <tr style=\"text-align: right;\">\n",
       "      <th></th>\n",
       "      <th>url</th>\n",
       "      <th>name</th>\n",
       "      <th>online_order</th>\n",
       "      <th>book_table</th>\n",
       "      <th>rate</th>\n",
       "      <th>votes</th>\n",
       "      <th>location</th>\n",
       "      <th>rest_type</th>\n",
       "      <th>approx_cost(for two people)</th>\n",
       "      <th>listed_in(type)</th>\n",
       "    </tr>\n",
       "  </thead>\n",
       "  <tbody>\n",
       "    <tr>\n",
       "      <th>0</th>\n",
       "      <td>https://www.zomato.com/bangalore/jalsa-banasha...</td>\n",
       "      <td>Jalsa</td>\n",
       "      <td>Yes</td>\n",
       "      <td>Yes</td>\n",
       "      <td>4.1/5</td>\n",
       "      <td>775</td>\n",
       "      <td>Banashankari</td>\n",
       "      <td>Casual Dining</td>\n",
       "      <td>800</td>\n",
       "      <td>Buffet</td>\n",
       "    </tr>\n",
       "    <tr>\n",
       "      <th>1</th>\n",
       "      <td>https://www.zomato.com/bangalore/spice-elephan...</td>\n",
       "      <td>Spice Elephant</td>\n",
       "      <td>Yes</td>\n",
       "      <td>No</td>\n",
       "      <td>4.1/5</td>\n",
       "      <td>787</td>\n",
       "      <td>Banashankari</td>\n",
       "      <td>Casual Dining</td>\n",
       "      <td>800</td>\n",
       "      <td>Buffet</td>\n",
       "    </tr>\n",
       "    <tr>\n",
       "      <th>2</th>\n",
       "      <td>https://www.zomato.com/SanchurroBangalore?cont...</td>\n",
       "      <td>San Churro Cafe</td>\n",
       "      <td>Yes</td>\n",
       "      <td>No</td>\n",
       "      <td>3.8/5</td>\n",
       "      <td>918</td>\n",
       "      <td>Banashankari</td>\n",
       "      <td>Cafe, Casual Dining</td>\n",
       "      <td>800</td>\n",
       "      <td>Buffet</td>\n",
       "    </tr>\n",
       "    <tr>\n",
       "      <th>3</th>\n",
       "      <td>https://www.zomato.com/bangalore/addhuri-udupi...</td>\n",
       "      <td>Addhuri Udupi Bhojana</td>\n",
       "      <td>No</td>\n",
       "      <td>No</td>\n",
       "      <td>3.7/5</td>\n",
       "      <td>88</td>\n",
       "      <td>Banashankari</td>\n",
       "      <td>Quick Bites</td>\n",
       "      <td>300</td>\n",
       "      <td>Buffet</td>\n",
       "    </tr>\n",
       "    <tr>\n",
       "      <th>4</th>\n",
       "      <td>https://www.zomato.com/bangalore/grand-village...</td>\n",
       "      <td>Grand Village</td>\n",
       "      <td>No</td>\n",
       "      <td>No</td>\n",
       "      <td>3.8/5</td>\n",
       "      <td>166</td>\n",
       "      <td>Basavanagudi</td>\n",
       "      <td>Casual Dining</td>\n",
       "      <td>600</td>\n",
       "      <td>Buffet</td>\n",
       "    </tr>\n",
       "  </tbody>\n",
       "</table>\n",
       "</div>"
      ],
      "text/plain": [
       "                                                 url                   name  \\\n",
       "0  https://www.zomato.com/bangalore/jalsa-banasha...                  Jalsa   \n",
       "1  https://www.zomato.com/bangalore/spice-elephan...         Spice Elephant   \n",
       "2  https://www.zomato.com/SanchurroBangalore?cont...        San Churro Cafe   \n",
       "3  https://www.zomato.com/bangalore/addhuri-udupi...  Addhuri Udupi Bhojana   \n",
       "4  https://www.zomato.com/bangalore/grand-village...          Grand Village   \n",
       "\n",
       "  online_order book_table   rate  votes      location            rest_type  \\\n",
       "0          Yes        Yes  4.1/5    775  Banashankari        Casual Dining   \n",
       "1          Yes         No  4.1/5    787  Banashankari        Casual Dining   \n",
       "2          Yes         No  3.8/5    918  Banashankari  Cafe, Casual Dining   \n",
       "3           No         No  3.7/5     88  Banashankari          Quick Bites   \n",
       "4           No         No  3.8/5    166  Basavanagudi        Casual Dining   \n",
       "\n",
       "  approx_cost(for two people) listed_in(type)  \n",
       "0                         800          Buffet  \n",
       "1                         800          Buffet  \n",
       "2                         800          Buffet  \n",
       "3                         300          Buffet  \n",
       "4                         600          Buffet  "
      ]
     },
     "execution_count": 5,
     "metadata": {},
     "output_type": "execute_result"
    }
   ],
   "source": [
    "df.head()"
   ]
  },
  {
   "cell_type": "markdown",
   "id": "28279f47",
   "metadata": {
    "papermill": {
     "duration": 0.013051,
     "end_time": "2023-01-05T11:07:54.270540",
     "exception": false,
     "start_time": "2023-01-05T11:07:54.257489",
     "status": "completed"
    },
    "tags": []
   },
   "source": [
    "Checking rate column for cleaning"
   ]
  },
  {
   "cell_type": "code",
   "execution_count": 6,
   "id": "bd3f65c9",
   "metadata": {
    "execution": {
     "iopub.execute_input": "2023-01-05T11:07:54.300013Z",
     "iopub.status.busy": "2023-01-05T11:07:54.298830Z",
     "iopub.status.idle": "2023-01-05T11:07:54.313963Z",
     "shell.execute_reply": "2023-01-05T11:07:54.312657Z"
    },
    "papermill": {
     "duration": 0.032841,
     "end_time": "2023-01-05T11:07:54.316663",
     "exception": false,
     "start_time": "2023-01-05T11:07:54.283822",
     "status": "completed"
    },
    "tags": []
   },
   "outputs": [
    {
     "data": {
      "text/plain": [
       "array(['4.1/5', '3.8/5', '3.7/5', '3.6/5', '4.6/5', '4.0/5', '4.2/5',\n",
       "       '3.9/5', '3.1/5', '3.0/5', '3.2/5', '3.3/5', '2.8/5', '4.4/5',\n",
       "       '4.3/5', 'NEW', '2.9/5', '3.5/5', nan, '2.6/5', '3.8 /5', '3.4/5',\n",
       "       '4.5/5', '2.5/5', '2.7/5', '4.7/5', '2.4/5', '2.2/5', '2.3/5',\n",
       "       '3.4 /5', '-', '3.6 /5', '4.8/5', '3.9 /5', '4.2 /5', '4.0 /5',\n",
       "       '4.1 /5', '3.7 /5', '3.1 /5', '2.9 /5', '3.3 /5', '2.8 /5',\n",
       "       '3.5 /5', '2.7 /5', '2.5 /5', '3.2 /5', '2.6 /5', '4.5 /5',\n",
       "       '4.3 /5', '4.4 /5', '4.9/5', '2.1/5', '2.0/5', '1.8/5', '4.6 /5',\n",
       "       '4.9 /5', '3.0 /5', '4.8 /5', '2.3 /5', '4.7 /5', '2.4 /5',\n",
       "       '2.1 /5', '2.2 /5', '2.0 /5', '1.8 /5'], dtype=object)"
      ]
     },
     "execution_count": 6,
     "metadata": {},
     "output_type": "execute_result"
    }
   ],
   "source": [
    "df['rate'].unique()"
   ]
  },
  {
   "cell_type": "code",
   "execution_count": 7,
   "id": "7f35ff73",
   "metadata": {
    "execution": {
     "iopub.execute_input": "2023-01-05T11:07:54.345791Z",
     "iopub.status.busy": "2023-01-05T11:07:54.344793Z",
     "iopub.status.idle": "2023-01-05T11:07:54.406574Z",
     "shell.execute_reply": "2023-01-05T11:07:54.405258Z"
    },
    "papermill": {
     "duration": 0.078999,
     "end_time": "2023-01-05T11:07:54.409202",
     "exception": false,
     "start_time": "2023-01-05T11:07:54.330203",
     "status": "completed"
    },
    "tags": []
   },
   "outputs": [
    {
     "data": {
      "text/plain": [
       "0    4.1\n",
       "1    4.1\n",
       "2    3.8\n",
       "3    3.7\n",
       "4    3.8\n",
       "Name: rate, dtype: float64"
      ]
     },
     "execution_count": 7,
     "metadata": {},
     "output_type": "execute_result"
    }
   ],
   "source": [
    "def cleaned_rate(value):\n",
    "\n",
    "    if(value=='NEW' or value=='-'):\n",
    "        return np.nan\n",
    "\n",
    "    else:\n",
    "        value=str(value).split('/')\n",
    "        value=value[0]\n",
    "        # return it by converting it from string to float\n",
    "        return float(value)\n",
    "    \n",
    "df.rate=df['rate'].apply(cleaned_rate)\n",
    "df.rate.head()"
   ]
  },
  {
   "cell_type": "code",
   "execution_count": 8,
   "id": "403ec0ad",
   "metadata": {
    "execution": {
     "iopub.execute_input": "2023-01-05T11:07:54.438207Z",
     "iopub.status.busy": "2023-01-05T11:07:54.437713Z",
     "iopub.status.idle": "2023-01-05T11:07:54.473936Z",
     "shell.execute_reply": "2023-01-05T11:07:54.472723Z"
    },
    "papermill": {
     "duration": 0.054482,
     "end_time": "2023-01-05T11:07:54.476942",
     "exception": false,
     "start_time": "2023-01-05T11:07:54.422460",
     "status": "completed"
    },
    "tags": []
   },
   "outputs": [
    {
     "data": {
      "text/plain": [
       "url                                0\n",
       "name                               0\n",
       "online_order                       0\n",
       "book_table                         0\n",
       "rate                           10052\n",
       "votes                              0\n",
       "location                          21\n",
       "rest_type                        227\n",
       "approx_cost(for two people)      346\n",
       "listed_in(type)                    0\n",
       "dtype: int64"
      ]
     },
     "execution_count": 8,
     "metadata": {},
     "output_type": "execute_result"
    }
   ],
   "source": [
    "df.isnull().sum()"
   ]
  },
  {
   "cell_type": "code",
   "execution_count": 9,
   "id": "d55256a6",
   "metadata": {
    "execution": {
     "iopub.execute_input": "2023-01-05T11:07:54.504836Z",
     "iopub.status.busy": "2023-01-05T11:07:54.504431Z",
     "iopub.status.idle": "2023-01-05T11:07:54.551018Z",
     "shell.execute_reply": "2023-01-05T11:07:54.549085Z"
    },
    "papermill": {
     "duration": 0.063603,
     "end_time": "2023-01-05T11:07:54.553667",
     "exception": false,
     "start_time": "2023-01-05T11:07:54.490064",
     "status": "completed"
    },
    "tags": []
   },
   "outputs": [
    {
     "name": "stdout",
     "output_type": "stream",
     "text": [
      "0\n"
     ]
    }
   ],
   "source": [
    "df.rate.fillna(df.rate.mean(), inplace=True)\n",
    "print(df.rate.isnull().sum())\n",
    "df.dropna(inplace = True)"
   ]
  },
  {
   "cell_type": "code",
   "execution_count": 10,
   "id": "c4399541",
   "metadata": {
    "execution": {
     "iopub.execute_input": "2023-01-05T11:07:54.583597Z",
     "iopub.status.busy": "2023-01-05T11:07:54.583172Z",
     "iopub.status.idle": "2023-01-05T11:07:54.634826Z",
     "shell.execute_reply": "2023-01-05T11:07:54.633423Z"
    },
    "papermill": {
     "duration": 0.070123,
     "end_time": "2023-01-05T11:07:54.637587",
     "exception": false,
     "start_time": "2023-01-05T11:07:54.567464",
     "status": "completed"
    },
    "tags": []
   },
   "outputs": [
    {
     "data": {
      "text/html": [
       "<div>\n",
       "<style scoped>\n",
       "    .dataframe tbody tr th:only-of-type {\n",
       "        vertical-align: middle;\n",
       "    }\n",
       "\n",
       "    .dataframe tbody tr th {\n",
       "        vertical-align: top;\n",
       "    }\n",
       "\n",
       "    .dataframe thead th {\n",
       "        text-align: right;\n",
       "    }\n",
       "</style>\n",
       "<table border=\"1\" class=\"dataframe\">\n",
       "  <thead>\n",
       "    <tr style=\"text-align: right;\">\n",
       "      <th></th>\n",
       "      <th>url</th>\n",
       "      <th>name</th>\n",
       "      <th>online_order</th>\n",
       "      <th>book_table</th>\n",
       "      <th>rate</th>\n",
       "      <th>votes</th>\n",
       "      <th>location</th>\n",
       "      <th>rest_type</th>\n",
       "      <th>approx_cost(for two people)</th>\n",
       "      <th>listed_in(type)</th>\n",
       "    </tr>\n",
       "  </thead>\n",
       "  <tbody>\n",
       "    <tr>\n",
       "      <th>0</th>\n",
       "      <td>https://www.zomato.com/bangalore/jalsa-banasha...</td>\n",
       "      <td>Jalsa</td>\n",
       "      <td>Yes</td>\n",
       "      <td>Yes</td>\n",
       "      <td>4.1</td>\n",
       "      <td>775</td>\n",
       "      <td>Banashankari</td>\n",
       "      <td>Casual Dining</td>\n",
       "      <td>800</td>\n",
       "      <td>Buffet</td>\n",
       "    </tr>\n",
       "    <tr>\n",
       "      <th>1</th>\n",
       "      <td>https://www.zomato.com/bangalore/spice-elephan...</td>\n",
       "      <td>Spice Elephant</td>\n",
       "      <td>Yes</td>\n",
       "      <td>No</td>\n",
       "      <td>4.1</td>\n",
       "      <td>787</td>\n",
       "      <td>Banashankari</td>\n",
       "      <td>Casual Dining</td>\n",
       "      <td>800</td>\n",
       "      <td>Buffet</td>\n",
       "    </tr>\n",
       "    <tr>\n",
       "      <th>2</th>\n",
       "      <td>https://www.zomato.com/SanchurroBangalore?cont...</td>\n",
       "      <td>San Churro Cafe</td>\n",
       "      <td>Yes</td>\n",
       "      <td>No</td>\n",
       "      <td>3.8</td>\n",
       "      <td>918</td>\n",
       "      <td>Banashankari</td>\n",
       "      <td>Cafe, Casual Dining</td>\n",
       "      <td>800</td>\n",
       "      <td>Buffet</td>\n",
       "    </tr>\n",
       "    <tr>\n",
       "      <th>3</th>\n",
       "      <td>https://www.zomato.com/bangalore/addhuri-udupi...</td>\n",
       "      <td>Addhuri Udupi Bhojana</td>\n",
       "      <td>No</td>\n",
       "      <td>No</td>\n",
       "      <td>3.7</td>\n",
       "      <td>88</td>\n",
       "      <td>Banashankari</td>\n",
       "      <td>Quick Bites</td>\n",
       "      <td>300</td>\n",
       "      <td>Buffet</td>\n",
       "    </tr>\n",
       "    <tr>\n",
       "      <th>4</th>\n",
       "      <td>https://www.zomato.com/bangalore/grand-village...</td>\n",
       "      <td>Grand Village</td>\n",
       "      <td>No</td>\n",
       "      <td>No</td>\n",
       "      <td>3.8</td>\n",
       "      <td>166</td>\n",
       "      <td>Basavanagudi</td>\n",
       "      <td>Casual Dining</td>\n",
       "      <td>600</td>\n",
       "      <td>Buffet</td>\n",
       "    </tr>\n",
       "  </tbody>\n",
       "</table>\n",
       "</div>"
      ],
      "text/plain": [
       "                                                 url                   name  \\\n",
       "0  https://www.zomato.com/bangalore/jalsa-banasha...                  Jalsa   \n",
       "1  https://www.zomato.com/bangalore/spice-elephan...         Spice Elephant   \n",
       "2  https://www.zomato.com/SanchurroBangalore?cont...        San Churro Cafe   \n",
       "3  https://www.zomato.com/bangalore/addhuri-udupi...  Addhuri Udupi Bhojana   \n",
       "4  https://www.zomato.com/bangalore/grand-village...          Grand Village   \n",
       "\n",
       "  online_order book_table  rate  votes      location            rest_type  \\\n",
       "0          Yes        Yes   4.1    775  Banashankari        Casual Dining   \n",
       "1          Yes         No   4.1    787  Banashankari        Casual Dining   \n",
       "2          Yes         No   3.8    918  Banashankari  Cafe, Casual Dining   \n",
       "3           No         No   3.7     88  Banashankari          Quick Bites   \n",
       "4           No         No   3.8    166  Basavanagudi        Casual Dining   \n",
       "\n",
       "  approx_cost(for two people) listed_in(type)  \n",
       "0                         800          Buffet  \n",
       "1                         800          Buffet  \n",
       "2                         800          Buffet  \n",
       "3                         300          Buffet  \n",
       "4                         600          Buffet  "
      ]
     },
     "execution_count": 10,
     "metadata": {},
     "output_type": "execute_result"
    }
   ],
   "source": [
    "#drop nulls for other columns\n",
    "df.dropna(inplace=True)\n",
    "df.head()"
   ]
  },
  {
   "cell_type": "code",
   "execution_count": 11,
   "id": "58b1e639",
   "metadata": {
    "execution": {
     "iopub.execute_input": "2023-01-05T11:07:54.667191Z",
     "iopub.status.busy": "2023-01-05T11:07:54.666702Z",
     "iopub.status.idle": "2023-01-05T11:07:54.794875Z",
     "shell.execute_reply": "2023-01-05T11:07:54.793476Z"
    },
    "papermill": {
     "duration": 0.146141,
     "end_time": "2023-01-05T11:07:54.797522",
     "exception": false,
     "start_time": "2023-01-05T11:07:54.651381",
     "status": "completed"
    },
    "tags": []
   },
   "outputs": [
    {
     "data": {
      "text/plain": [
       "0"
      ]
     },
     "execution_count": 11,
     "metadata": {},
     "output_type": "execute_result"
    }
   ],
   "source": [
    "df.duplicated().sum()"
   ]
  },
  {
   "cell_type": "markdown",
   "id": "75ec4167",
   "metadata": {
    "papermill": {
     "duration": 0.013367,
     "end_time": "2023-01-05T11:07:54.824606",
     "exception": false,
     "start_time": "2023-01-05T11:07:54.811239",
     "status": "completed"
    },
    "tags": []
   },
   "source": [
    "Checking approx cost columns for cleaning"
   ]
  },
  {
   "cell_type": "code",
   "execution_count": 12,
   "id": "9be2258b",
   "metadata": {
    "execution": {
     "iopub.execute_input": "2023-01-05T11:07:54.854096Z",
     "iopub.status.busy": "2023-01-05T11:07:54.853598Z",
     "iopub.status.idle": "2023-01-05T11:07:54.865322Z",
     "shell.execute_reply": "2023-01-05T11:07:54.864105Z"
    },
    "papermill": {
     "duration": 0.0291,
     "end_time": "2023-01-05T11:07:54.867465",
     "exception": false,
     "start_time": "2023-01-05T11:07:54.838365",
     "status": "completed"
    },
    "tags": []
   },
   "outputs": [
    {
     "data": {
      "text/plain": [
       "array(['800', '300', '600', '700', '550', '500', '450', '650', '400',\n",
       "       '900', '200', '750', '150', '850', '100', '1,200', '350', '250',\n",
       "       '950', '1,000', '1,500', '1,300', '199', '80', '1,100', '160',\n",
       "       '1,600', '230', '130', '50', '190', '1,700', '1,400', '180',\n",
       "       '1,350', '2,200', '2,000', '1,800', '1,900', '330', '2,500',\n",
       "       '2,100', '3,000', '2,800', '3,400', '40', '1,250', '3,500',\n",
       "       '4,000', '2,400', '2,600', '120', '1,450', '469', '70', '3,200',\n",
       "       '60', '560', '240', '360', '6,000', '1,050', '2,300', '4,100',\n",
       "       '5,000', '3,700', '1,650', '2,700', '4,500', '140'], dtype=object)"
      ]
     },
     "execution_count": 12,
     "metadata": {},
     "output_type": "execute_result"
    }
   ],
   "source": [
    "df['approx_cost(for two people)'].unique()"
   ]
  },
  {
   "cell_type": "markdown",
   "id": "6adea5d0",
   "metadata": {
    "papermill": {
     "duration": 0.013512,
     "end_time": "2023-01-05T11:07:54.894823",
     "exception": false,
     "start_time": "2023-01-05T11:07:54.881311",
     "status": "completed"
    },
    "tags": []
   },
   "source": [
    "We can remove the comma from numbers greater than 1000"
   ]
  },
  {
   "cell_type": "code",
   "execution_count": 13,
   "id": "cb1f8eae",
   "metadata": {
    "execution": {
     "iopub.execute_input": "2023-01-05T11:07:54.924473Z",
     "iopub.status.busy": "2023-01-05T11:07:54.924021Z",
     "iopub.status.idle": "2023-01-05T11:07:54.970583Z",
     "shell.execute_reply": "2023-01-05T11:07:54.969444Z"
    },
    "papermill": {
     "duration": 0.064641,
     "end_time": "2023-01-05T11:07:54.973219",
     "exception": false,
     "start_time": "2023-01-05T11:07:54.908578",
     "status": "completed"
    },
    "tags": []
   },
   "outputs": [
    {
     "data": {
      "text/plain": [
       "array([ 800.,  300.,  600.,  700.,  550.,  500.,  450.,  650.,  400.,\n",
       "        900.,  200.,  750.,  150.,  850.,  100., 1200.,  350.,  250.,\n",
       "        950., 1000., 1500., 1300.,  199.,   80., 1100.,  160., 1600.,\n",
       "        230.,  130.,   50.,  190., 1700., 1400.,  180., 1350., 2200.,\n",
       "       2000., 1800., 1900.,  330., 2500., 2100., 3000., 2800., 3400.,\n",
       "         40., 1250., 3500., 4000., 2400., 2600.,  120., 1450.,  469.,\n",
       "         70., 3200.,   60.,  560.,  240.,  360., 6000., 1050., 2300.,\n",
       "       4100., 5000., 3700., 1650., 2700., 4500.,  140.])"
      ]
     },
     "execution_count": 13,
     "metadata": {},
     "output_type": "execute_result"
    }
   ],
   "source": [
    "def cleaned_approx_cost(value):\n",
    "    value=str(value)\n",
    "    if ',' in value:\n",
    "        value= value.replace(',','')\n",
    "        return float(value)\n",
    "    else:\n",
    "        return float(value)\n",
    "    \n",
    "df['approx_cost(for two people)']= df['approx_cost(for two people)'].apply(cleaned_approx_cost)\n",
    "df['approx_cost(for two people)'].unique()"
   ]
  },
  {
   "cell_type": "markdown",
   "id": "e66a6770",
   "metadata": {
    "papermill": {
     "duration": 0.01355,
     "end_time": "2023-01-05T11:07:55.001242",
     "exception": false,
     "start_time": "2023-01-05T11:07:54.987692",
     "status": "completed"
    },
    "tags": []
   },
   "source": [
    "Checking Restaurant type column for cleaning"
   ]
  },
  {
   "cell_type": "code",
   "execution_count": 14,
   "id": "4fbdb67e",
   "metadata": {
    "execution": {
     "iopub.execute_input": "2023-01-05T11:07:55.031117Z",
     "iopub.status.busy": "2023-01-05T11:07:55.030693Z",
     "iopub.status.idle": "2023-01-05T11:07:55.047639Z",
     "shell.execute_reply": "2023-01-05T11:07:55.046192Z"
    },
    "papermill": {
     "duration": 0.035073,
     "end_time": "2023-01-05T11:07:55.050334",
     "exception": false,
     "start_time": "2023-01-05T11:07:55.015261",
     "status": "completed"
    },
    "tags": []
   },
   "outputs": [
    {
     "data": {
      "text/plain": [
       "Quick Bites                   19048\n",
       "Casual Dining                 10275\n",
       "Cafe                           3687\n",
       "Delivery                       2587\n",
       "Dessert Parlor                 2245\n",
       "                              ...  \n",
       "Dessert Parlor, Kiosk             2\n",
       "Food Court, Beverage Shop         2\n",
       "Dessert Parlor, Food Court        2\n",
       "Quick Bites, Kiosk                1\n",
       "Sweet Shop, Dessert Parlor        1\n",
       "Name: rest_type, Length: 93, dtype: int64"
      ]
     },
     "execution_count": 14,
     "metadata": {},
     "output_type": "execute_result"
    }
   ],
   "source": [
    "df['rest_type'].value_counts()"
   ]
  },
  {
   "cell_type": "markdown",
   "id": "c6881b25",
   "metadata": {
    "papermill": {
     "duration": 0.014515,
     "end_time": "2023-01-05T11:07:55.079350",
     "exception": false,
     "start_time": "2023-01-05T11:07:55.064835",
     "status": "completed"
    },
    "tags": []
   },
   "source": [
    "Restaurant types with less counts can be converted to a single others category. We will do it for types with numbers less than 1000"
   ]
  },
  {
   "cell_type": "code",
   "execution_count": 15,
   "id": "93d54c6a",
   "metadata": {
    "execution": {
     "iopub.execute_input": "2023-01-05T11:07:55.110522Z",
     "iopub.status.busy": "2023-01-05T11:07:55.109726Z",
     "iopub.status.idle": "2023-01-05T11:07:55.124337Z",
     "shell.execute_reply": "2023-01-05T11:07:55.122925Z"
    },
    "papermill": {
     "duration": 0.033104,
     "end_time": "2023-01-05T11:07:55.126959",
     "exception": false,
     "start_time": "2023-01-05T11:07:55.093855",
     "status": "completed"
    },
    "tags": []
   },
   "outputs": [
    {
     "data": {
      "text/plain": [
       "Beverage Shop                 867\n",
       "Bar                           686\n",
       "Food Court                    619\n",
       "Sweet Shop                    468\n",
       "Bar, Casual Dining            415\n",
       "                             ... \n",
       "Dessert Parlor, Kiosk           2\n",
       "Food Court, Beverage Shop       2\n",
       "Dessert Parlor, Food Court      2\n",
       "Quick Bites, Kiosk              1\n",
       "Sweet Shop, Dessert Parlor      1\n",
       "Name: rest_type, Length: 85, dtype: int64"
      ]
     },
     "execution_count": 15,
     "metadata": {},
     "output_type": "execute_result"
    }
   ],
   "source": [
    "restaurant_type=df['rest_type'].value_counts()\n",
    "type_below_1000=restaurant_type[restaurant_type<1000]\n",
    "type_below_1000"
   ]
  },
  {
   "cell_type": "code",
   "execution_count": 16,
   "id": "dd2580d6",
   "metadata": {
    "execution": {
     "iopub.execute_input": "2023-01-05T11:07:55.158571Z",
     "iopub.status.busy": "2023-01-05T11:07:55.158065Z",
     "iopub.status.idle": "2023-01-05T11:07:55.226330Z",
     "shell.execute_reply": "2023-01-05T11:07:55.225043Z"
    },
    "papermill": {
     "duration": 0.08725,
     "end_time": "2023-01-05T11:07:55.228839",
     "exception": false,
     "start_time": "2023-01-05T11:07:55.141589",
     "status": "completed"
    },
    "tags": []
   },
   "outputs": [
    {
     "data": {
      "text/plain": [
       "Quick Bites           19048\n",
       "Casual Dining         10275\n",
       "Others                 9032\n",
       "Cafe                   3687\n",
       "Delivery               2587\n",
       "Dessert Parlor         2245\n",
       "Takeaway, Delivery     2016\n",
       "Bakery                 1141\n",
       "Casual Dining, Bar     1136\n",
       "Name: rest_type, dtype: int64"
      ]
     },
     "execution_count": 16,
     "metadata": {},
     "output_type": "execute_result"
    }
   ],
   "source": [
    "def cleaned_type(value):\n",
    "    if(value in type_below_1000):\n",
    "        return 'Others'\n",
    "    else:\n",
    "        return value\n",
    "    \n",
    "df['rest_type']=df['rest_type'].apply(cleaned_type)\n",
    "df['rest_type'].value_counts()"
   ]
  },
  {
   "cell_type": "code",
   "execution_count": 17,
   "id": "c1d8c5eb",
   "metadata": {
    "execution": {
     "iopub.execute_input": "2023-01-05T11:07:55.259641Z",
     "iopub.status.busy": "2023-01-05T11:07:55.258439Z",
     "iopub.status.idle": "2023-01-05T11:07:55.276752Z",
     "shell.execute_reply": "2023-01-05T11:07:55.275341Z"
    },
    "papermill": {
     "duration": 0.036462,
     "end_time": "2023-01-05T11:07:55.279334",
     "exception": false,
     "start_time": "2023-01-05T11:07:55.242872",
     "status": "completed"
    },
    "tags": []
   },
   "outputs": [
    {
     "data": {
      "text/html": [
       "<div>\n",
       "<style scoped>\n",
       "    .dataframe tbody tr th:only-of-type {\n",
       "        vertical-align: middle;\n",
       "    }\n",
       "\n",
       "    .dataframe tbody tr th {\n",
       "        vertical-align: top;\n",
       "    }\n",
       "\n",
       "    .dataframe thead th {\n",
       "        text-align: right;\n",
       "    }\n",
       "</style>\n",
       "<table border=\"1\" class=\"dataframe\">\n",
       "  <thead>\n",
       "    <tr style=\"text-align: right;\">\n",
       "      <th></th>\n",
       "      <th>url</th>\n",
       "      <th>name</th>\n",
       "      <th>online_order</th>\n",
       "      <th>book_table</th>\n",
       "      <th>rate</th>\n",
       "      <th>votes</th>\n",
       "      <th>location</th>\n",
       "      <th>rest_type</th>\n",
       "      <th>approx_cost(for two people)</th>\n",
       "      <th>listed_in(type)</th>\n",
       "    </tr>\n",
       "  </thead>\n",
       "  <tbody>\n",
       "    <tr>\n",
       "      <th>0</th>\n",
       "      <td>https://www.zomato.com/bangalore/jalsa-banasha...</td>\n",
       "      <td>Jalsa</td>\n",
       "      <td>Yes</td>\n",
       "      <td>Yes</td>\n",
       "      <td>4.1</td>\n",
       "      <td>775</td>\n",
       "      <td>Banashankari</td>\n",
       "      <td>Casual Dining</td>\n",
       "      <td>800.0</td>\n",
       "      <td>Buffet</td>\n",
       "    </tr>\n",
       "    <tr>\n",
       "      <th>1</th>\n",
       "      <td>https://www.zomato.com/bangalore/spice-elephan...</td>\n",
       "      <td>Spice Elephant</td>\n",
       "      <td>Yes</td>\n",
       "      <td>No</td>\n",
       "      <td>4.1</td>\n",
       "      <td>787</td>\n",
       "      <td>Banashankari</td>\n",
       "      <td>Casual Dining</td>\n",
       "      <td>800.0</td>\n",
       "      <td>Buffet</td>\n",
       "    </tr>\n",
       "    <tr>\n",
       "      <th>2</th>\n",
       "      <td>https://www.zomato.com/SanchurroBangalore?cont...</td>\n",
       "      <td>San Churro Cafe</td>\n",
       "      <td>Yes</td>\n",
       "      <td>No</td>\n",
       "      <td>3.8</td>\n",
       "      <td>918</td>\n",
       "      <td>Banashankari</td>\n",
       "      <td>Others</td>\n",
       "      <td>800.0</td>\n",
       "      <td>Buffet</td>\n",
       "    </tr>\n",
       "    <tr>\n",
       "      <th>3</th>\n",
       "      <td>https://www.zomato.com/bangalore/addhuri-udupi...</td>\n",
       "      <td>Addhuri Udupi Bhojana</td>\n",
       "      <td>No</td>\n",
       "      <td>No</td>\n",
       "      <td>3.7</td>\n",
       "      <td>88</td>\n",
       "      <td>Banashankari</td>\n",
       "      <td>Quick Bites</td>\n",
       "      <td>300.0</td>\n",
       "      <td>Buffet</td>\n",
       "    </tr>\n",
       "    <tr>\n",
       "      <th>4</th>\n",
       "      <td>https://www.zomato.com/bangalore/grand-village...</td>\n",
       "      <td>Grand Village</td>\n",
       "      <td>No</td>\n",
       "      <td>No</td>\n",
       "      <td>3.8</td>\n",
       "      <td>166</td>\n",
       "      <td>Basavanagudi</td>\n",
       "      <td>Casual Dining</td>\n",
       "      <td>600.0</td>\n",
       "      <td>Buffet</td>\n",
       "    </tr>\n",
       "  </tbody>\n",
       "</table>\n",
       "</div>"
      ],
      "text/plain": [
       "                                                 url                   name  \\\n",
       "0  https://www.zomato.com/bangalore/jalsa-banasha...                  Jalsa   \n",
       "1  https://www.zomato.com/bangalore/spice-elephan...         Spice Elephant   \n",
       "2  https://www.zomato.com/SanchurroBangalore?cont...        San Churro Cafe   \n",
       "3  https://www.zomato.com/bangalore/addhuri-udupi...  Addhuri Udupi Bhojana   \n",
       "4  https://www.zomato.com/bangalore/grand-village...          Grand Village   \n",
       "\n",
       "  online_order book_table  rate  votes      location      rest_type  \\\n",
       "0          Yes        Yes   4.1    775  Banashankari  Casual Dining   \n",
       "1          Yes         No   4.1    787  Banashankari  Casual Dining   \n",
       "2          Yes         No   3.8    918  Banashankari         Others   \n",
       "3           No         No   3.7     88  Banashankari    Quick Bites   \n",
       "4           No         No   3.8    166  Basavanagudi  Casual Dining   \n",
       "\n",
       "   approx_cost(for two people) listed_in(type)  \n",
       "0                        800.0          Buffet  \n",
       "1                        800.0          Buffet  \n",
       "2                        800.0          Buffet  \n",
       "3                        300.0          Buffet  \n",
       "4                        600.0          Buffet  "
      ]
     },
     "execution_count": 17,
     "metadata": {},
     "output_type": "execute_result"
    }
   ],
   "source": [
    "df.head()"
   ]
  },
  {
   "cell_type": "markdown",
   "id": "5aed592f",
   "metadata": {
    "papermill": {
     "duration": 0.013861,
     "end_time": "2023-01-05T11:07:55.307369",
     "exception": false,
     "start_time": "2023-01-05T11:07:55.293508",
     "status": "completed"
    },
    "tags": []
   },
   "source": [
    "Checking location column for cleaning"
   ]
  },
  {
   "cell_type": "code",
   "execution_count": 18,
   "id": "9475cf77",
   "metadata": {
    "execution": {
     "iopub.execute_input": "2023-01-05T11:07:55.338680Z",
     "iopub.status.busy": "2023-01-05T11:07:55.338294Z",
     "iopub.status.idle": "2023-01-05T11:07:55.351475Z",
     "shell.execute_reply": "2023-01-05T11:07:55.350208Z"
    },
    "papermill": {
     "duration": 0.032349,
     "end_time": "2023-01-05T11:07:55.353941",
     "exception": false,
     "start_time": "2023-01-05T11:07:55.321592",
     "status": "completed"
    },
    "tags": []
   },
   "outputs": [
    {
     "data": {
      "text/plain": [
       "BTM                      5071\n",
       "HSR                      2496\n",
       "Koramangala 5th Block    2481\n",
       "JP Nagar                 2219\n",
       "Whitefield               2117\n",
       "                         ... \n",
       "West Bangalore              6\n",
       "Yelahanka                   5\n",
       "Jakkur                      3\n",
       "Rajarajeshwari Nagar        2\n",
       "Peenya                      1\n",
       "Name: location, Length: 93, dtype: int64"
      ]
     },
     "execution_count": 18,
     "metadata": {},
     "output_type": "execute_result"
    }
   ],
   "source": [
    "df['location'].value_counts()"
   ]
  },
  {
   "cell_type": "markdown",
   "id": "e9a917d5",
   "metadata": {
    "papermill": {
     "duration": 0.014292,
     "end_time": "2023-01-05T11:07:55.382593",
     "exception": false,
     "start_time": "2023-01-05T11:07:55.368301",
     "status": "completed"
    },
    "tags": []
   },
   "source": [
    "We can follow similar technique for location column as well like type column"
   ]
  },
  {
   "cell_type": "code",
   "execution_count": 19,
   "id": "44f7b137",
   "metadata": {
    "execution": {
     "iopub.execute_input": "2023-01-05T11:07:55.413133Z",
     "iopub.status.busy": "2023-01-05T11:07:55.412710Z",
     "iopub.status.idle": "2023-01-05T11:07:55.426611Z",
     "shell.execute_reply": "2023-01-05T11:07:55.425289Z"
    },
    "papermill": {
     "duration": 0.031872,
     "end_time": "2023-01-05T11:07:55.428837",
     "exception": false,
     "start_time": "2023-01-05T11:07:55.396965",
     "status": "completed"
    },
    "tags": []
   },
   "outputs": [
    {
     "data": {
      "text/plain": [
       "Shivajinagar                     499\n",
       "Cunningham Road                  491\n",
       "Domlur                           482\n",
       "Old Airport Road                 437\n",
       "Ejipura                          434\n",
       "Commercial Street                370\n",
       "St. Marks Road                   343\n",
       "Koramangala 8th Block            294\n",
       "Vasanth Nagar                    293\n",
       "Jeevan Bhima Nagar               268\n",
       "Wilson Garden                    246\n",
       "Bommanahalli                     236\n",
       "Koramangala 3rd Block            216\n",
       "Kumaraswamy Layout               194\n",
       "Thippasandra                     191\n",
       "Nagawara                         187\n",
       "Basaveshwara Nagar               187\n",
       "Seshadripuram                    165\n",
       "Hennur                           159\n",
       "Majestic                         155\n",
       "HBR Layout                       153\n",
       "Infantry Road                    151\n",
       "Race Course Road                 139\n",
       "City Market                      122\n",
       "Yeshwantpur                      119\n",
       "ITPL Main Road, Whitefield       113\n",
       "Varthur Main Road, Whitefield    109\n",
       "South Bangalore                  107\n",
       "Koramangala 2nd Block            102\n",
       "Hosur Road                       102\n",
       "Kaggadasapura                    101\n",
       "CV Raman Nagar                    90\n",
       "Vijay Nagar                       78\n",
       "RT Nagar                          78\n",
       "Sanjay Nagar                      76\n",
       "Sadashiv Nagar                    63\n",
       "Sahakara Nagar                    53\n",
       "Koramangala                       48\n",
       "East Bangalore                    43\n",
       "Jalahalli                         38\n",
       "Magadi Road                       34\n",
       "Rammurthy Nagar                   32\n",
       "Langford Town                     27\n",
       "Sankey Road                       27\n",
       "Old Madras Road                   22\n",
       "Mysore Road                       22\n",
       "Kanakapura Road                   19\n",
       "KR Puram                          18\n",
       "Uttarahalli                       17\n",
       "Hebbal                            14\n",
       "North Bangalore                   14\n",
       "Kengeri                            9\n",
       "Nagarbhavi                         9\n",
       "Central Bangalore                  8\n",
       "West Bangalore                     6\n",
       "Yelahanka                          5\n",
       "Jakkur                             3\n",
       "Rajarajeshwari Nagar               2\n",
       "Peenya                             1\n",
       "Name: location, dtype: int64"
      ]
     },
     "execution_count": 19,
     "metadata": {},
     "output_type": "execute_result"
    }
   ],
   "source": [
    "res_loc=df['location'].value_counts()\n",
    "loc_below_500=res_loc[res_loc<500]\n",
    "loc_below_500"
   ]
  },
  {
   "cell_type": "code",
   "execution_count": 20,
   "id": "989515da",
   "metadata": {
    "execution": {
     "iopub.execute_input": "2023-01-05T11:07:55.460723Z",
     "iopub.status.busy": "2023-01-05T11:07:55.460125Z",
     "iopub.status.idle": "2023-01-05T11:07:55.529878Z",
     "shell.execute_reply": "2023-01-05T11:07:55.528871Z"
    },
    "papermill": {
     "duration": 0.088584,
     "end_time": "2023-01-05T11:07:55.532131",
     "exception": false,
     "start_time": "2023-01-05T11:07:55.443547",
     "status": "completed"
    },
    "tags": []
   },
   "outputs": [
    {
     "data": {
      "text/plain": [
       "Others                   8021\n",
       "BTM                      5071\n",
       "HSR                      2496\n",
       "Koramangala 5th Block    2481\n",
       "JP Nagar                 2219\n",
       "Whitefield               2117\n",
       "Indiranagar              2033\n",
       "Jayanagar                1916\n",
       "Marathahalli             1811\n",
       "Bannerghatta Road        1611\n",
       "Bellandur                1271\n",
       "Electronic City          1249\n",
       "Koramangala 1st Block    1237\n",
       "Brigade Road             1218\n",
       "Koramangala 7th Block    1176\n",
       "Koramangala 6th Block    1129\n",
       "Sarjapur Road            1049\n",
       "Ulsoor                   1017\n",
       "Koramangala 4th Block    1017\n",
       "Banashankari              906\n",
       "MG Road                   894\n",
       "Kalyan Nagar              843\n",
       "Richmond Road             804\n",
       "Malleshwaram              724\n",
       "Frazer Town               720\n",
       "Basavanagudi              684\n",
       "Residency Road            674\n",
       "Brookefield               656\n",
       "Banaswadi                 645\n",
       "New BEL Road              644\n",
       "Kammanahalli              640\n",
       "Rajajinagar               591\n",
       "Church Street             569\n",
       "Lavelle Road              523\n",
       "Shanti Nagar              511\n",
       "Name: location, dtype: int64"
      ]
     },
     "execution_count": 20,
     "metadata": {},
     "output_type": "execute_result"
    }
   ],
   "source": [
    "def cleaned_loc(value):\n",
    "    if value in loc_below_500 :\n",
    "        return 'Others'\n",
    "    else:\n",
    "        return value\n",
    "    \n",
    "df['location']=df['location'].apply(cleaned_loc)\n",
    "df['location'].value_counts()"
   ]
  },
  {
   "cell_type": "markdown",
   "id": "2906b475",
   "metadata": {
    "papermill": {
     "duration": 0.014449,
     "end_time": "2023-01-05T11:07:55.561482",
     "exception": false,
     "start_time": "2023-01-05T11:07:55.547033",
     "status": "completed"
    },
    "tags": []
   },
   "source": [
    "Checking type column"
   ]
  },
  {
   "cell_type": "code",
   "execution_count": 21,
   "id": "21d52f7f",
   "metadata": {
    "execution": {
     "iopub.execute_input": "2023-01-05T11:07:55.593680Z",
     "iopub.status.busy": "2023-01-05T11:07:55.593281Z",
     "iopub.status.idle": "2023-01-05T11:07:55.605954Z",
     "shell.execute_reply": "2023-01-05T11:07:55.604523Z"
    },
    "papermill": {
     "duration": 0.032495,
     "end_time": "2023-01-05T11:07:55.608624",
     "exception": false,
     "start_time": "2023-01-05T11:07:55.576129",
     "status": "completed"
    },
    "tags": []
   },
   "outputs": [
    {
     "data": {
      "text/plain": [
       "Delivery              25669\n",
       "Dine-out              17586\n",
       "Desserts               3559\n",
       "Cafes                  1703\n",
       "Drinks & nightlife     1091\n",
       "Buffet                  871\n",
       "Pubs and bars           688\n",
       "Name: listed_in(type), dtype: int64"
      ]
     },
     "execution_count": 21,
     "metadata": {},
     "output_type": "execute_result"
    }
   ],
   "source": [
    "df['listed_in(type)'].value_counts()"
   ]
  },
  {
   "cell_type": "markdown",
   "id": "24103b30",
   "metadata": {
    "papermill": {
     "duration": 0.015472,
     "end_time": "2023-01-05T11:07:55.639714",
     "exception": false,
     "start_time": "2023-01-05T11:07:55.624242",
     "status": "completed"
    },
    "tags": []
   },
   "source": [
    "**Restaurants delivering Online or not**"
   ]
  },
  {
   "cell_type": "code",
   "execution_count": 22,
   "id": "572f7378",
   "metadata": {
    "execution": {
     "iopub.execute_input": "2023-01-05T11:07:55.673432Z",
     "iopub.status.busy": "2023-01-05T11:07:55.673041Z",
     "iopub.status.idle": "2023-01-05T11:07:57.122793Z",
     "shell.execute_reply": "2023-01-05T11:07:57.121270Z"
    },
    "papermill": {
     "duration": 1.469903,
     "end_time": "2023-01-05T11:07:57.125615",
     "exception": false,
     "start_time": "2023-01-05T11:07:55.655712",
     "status": "completed"
    },
    "tags": []
   },
   "outputs": [
    {
     "data": {
      "text/plain": [
       "Text(0.5, 1.0, 'Restaurants delivering Online or not')"
      ]
     },
     "execution_count": 22,
     "metadata": {},
     "output_type": "execute_result"
    },
    {
     "data": {
      "image/png": "[encoded data removed]",
      "text/plain": [
       "<Figure size 720x576 with 1 Axes>"
      ]
     },
     "metadata": {
      "needs_background": "light"
     },
     "output_type": "display_data"
    }
   ],
   "source": [
    "import seaborn as sns\n",
    "import matplotlib.pyplot as plt\n",
    "\n",
    "plt.figure(figsize=(10,8)) \n",
    "online_counts = df['online_order'].value_counts().plot(kind='bar',color = sns.color_palette())\n",
    "plt.title(\"Restaurants delivering Online or not\")\n"
   ]
  },
  {
   "cell_type": "markdown",
   "id": "03eaf65d",
   "metadata": {
    "papermill": {
     "duration": 0.015422,
     "end_time": "2023-01-05T11:07:57.156552",
     "exception": false,
     "start_time": "2023-01-05T11:07:57.141130",
     "status": "completed"
    },
    "tags": []
   },
   "source": [
    "**Restaurants allowing table booking or not**"
   ]
  },
  {
   "cell_type": "code",
   "execution_count": 23,
   "id": "afb4327a",
   "metadata": {
    "execution": {
     "iopub.execute_input": "2023-01-05T11:07:57.190243Z",
     "iopub.status.busy": "2023-01-05T11:07:57.189764Z",
     "iopub.status.idle": "2023-01-05T11:07:57.387298Z",
     "shell.execute_reply": "2023-01-05T11:07:57.385406Z"
    },
    "papermill": {
     "duration": 0.219566,
     "end_time": "2023-01-05T11:07:57.391630",
     "exception": false,
     "start_time": "2023-01-05T11:07:57.172064",
     "status": "completed"
    },
    "tags": []
   },
   "outputs": [
    {
     "data": {
      "text/plain": [
       "<function matplotlib.pyplot.show(close=None, block=None)>"
      ]
     },
     "execution_count": 23,
     "metadata": {},
     "output_type": "execute_result"
    },
    {
     "data": {
      "image/png": "[encoded data removed]",
      "text/plain": [
       "<Figure size 576x576 with 1 Axes>"
      ]
     },
     "metadata": {},
     "output_type": "display_data"
    }
   ],
   "source": [
    "import seaborn as sns\n",
    "import matplotlib.pyplot as plt\n",
    "\n",
    "table_counts = df['book_table'].value_counts()\n",
    "\n",
    "colors = sns.color_palette('bright')[3:6]\n",
    "\n",
    "plt.figure(figsize=(8,8)) \n",
    "plt.pie(table_counts.values, labels = table_counts.index, autopct='%1.0f%%',colors = colors,\n",
    "        shadow = True)\n",
    "plt.title(\"Restaurants allowing table booking or not\")\n",
    "plt.show"
   ]
  },
  {
   "cell_type": "markdown",
   "id": "bad634c4",
   "metadata": {
    "papermill": {
     "duration": 0.015502,
     "end_time": "2023-01-05T11:07:57.447581",
     "exception": false,
     "start_time": "2023-01-05T11:07:57.432079",
     "status": "completed"
    },
    "tags": []
   },
   "source": [
    "**Table booking Rate vs Rate**"
   ]
  },
  {
   "cell_type": "code",
   "execution_count": 24,
   "id": "3d486b68",
   "metadata": {
    "execution": {
     "iopub.execute_input": "2023-01-05T11:07:57.481790Z",
     "iopub.status.busy": "2023-01-05T11:07:57.480891Z",
     "iopub.status.idle": "2023-01-05T11:07:57.512455Z",
     "shell.execute_reply": "2023-01-05T11:07:57.510795Z"
    },
    "papermill": {
     "duration": 0.051664,
     "end_time": "2023-01-05T11:07:57.515207",
     "exception": false,
     "start_time": "2023-01-05T11:07:57.463543",
     "status": "completed"
    },
    "tags": []
   },
   "outputs": [
    {
     "name": "stdout",
     "output_type": "stream",
     "text": [
      "Rating with booking: 4.13 Rating without booking: 3.64\n"
     ]
    }
   ],
   "source": [
    "avg_rate_with_booking = round(df[df['book_table'] == 'Yes']['rate'].mean(), 2)\n",
    "\n",
    "avg_rate_without_book = round(df[df['book_table'] == 'No']['rate'].mean(), 2)\n",
    "\n",
    "print('Rating with booking:',avg_rate_with_booking, 'Rating without booking:',avg_rate_without_book)"
   ]
  },
  {
   "cell_type": "code",
   "execution_count": 25,
   "id": "615e9f6c",
   "metadata": {
    "execution": {
     "iopub.execute_input": "2023-01-05T11:07:57.548604Z",
     "iopub.status.busy": "2023-01-05T11:07:57.548184Z",
     "iopub.status.idle": "2023-01-05T11:07:57.778046Z",
     "shell.execute_reply": "2023-01-05T11:07:57.776769Z"
    },
    "papermill": {
     "duration": 0.249993,
     "end_time": "2023-01-05T11:07:57.780940",
     "exception": false,
     "start_time": "2023-01-05T11:07:57.530947",
     "status": "completed"
    },
    "tags": []
   },
   "outputs": [
    {
     "data": {
      "image/png": "[encoded data removed]",
      "text/plain": [
       "<Figure size 576x576 with 1 Axes>"
      ]
     },
     "metadata": {
      "needs_background": "light"
     },
     "output_type": "display_data"
    }
   ],
   "source": [
    "dict1 = {'Ratings with Booking':[avg_rate_with_booking],'Ratings without Booking':[avg_rate_without_book]}\n",
    "df2 =pd.DataFrame.from_dict(dict1)\n",
    "\n",
    "fig , ax = plt.subplots(figsize=(8,8))\n",
    "sns.barplot(data = df2, color = 'blue', palette = 'hls')\n",
    "ax.set_xticklabels( ax.get_xticklabels(), fontsize = 16)\n",
    "for i in ax.containers:\n",
    "    ax.bar_label(i)"
   ]
  },
  {
   "cell_type": "markdown",
   "id": "53331dcd",
   "metadata": {
    "papermill": {
     "duration": 0.017648,
     "end_time": "2023-01-05T11:07:57.816833",
     "exception": false,
     "start_time": "2023-01-05T11:07:57.799185",
     "status": "completed"
    },
    "tags": []
   },
   "source": [
    "**Best Location**"
   ]
  },
  {
   "cell_type": "code",
   "execution_count": 26,
   "id": "e069fcfb",
   "metadata": {
    "execution": {
     "iopub.execute_input": "2023-01-05T11:07:57.854487Z",
     "iopub.status.busy": "2023-01-05T11:07:57.854096Z",
     "iopub.status.idle": "2023-01-05T11:07:57.981630Z",
     "shell.execute_reply": "2023-01-05T11:07:57.980175Z"
    },
    "papermill": {
     "duration": 0.150109,
     "end_time": "2023-01-05T11:07:57.984280",
     "exception": false,
     "start_time": "2023-01-05T11:07:57.834171",
     "status": "completed"
    },
    "tags": []
   },
   "outputs": [
    {
     "data": {
      "text/html": [
       "<div>\n",
       "<style scoped>\n",
       "    .dataframe tbody tr th:only-of-type {\n",
       "        vertical-align: middle;\n",
       "    }\n",
       "\n",
       "    .dataframe tbody tr th {\n",
       "        vertical-align: top;\n",
       "    }\n",
       "\n",
       "    .dataframe thead th {\n",
       "        text-align: right;\n",
       "    }\n",
       "</style>\n",
       "<table border=\"1\" class=\"dataframe\">\n",
       "  <thead>\n",
       "    <tr style=\"text-align: right;\">\n",
       "      <th></th>\n",
       "      <th>url</th>\n",
       "      <th>name</th>\n",
       "      <th>online_order</th>\n",
       "      <th>book_table</th>\n",
       "      <th>location</th>\n",
       "      <th>rest_type</th>\n",
       "      <th>listed_in(type)</th>\n",
       "    </tr>\n",
       "  </thead>\n",
       "  <tbody>\n",
       "    <tr>\n",
       "      <th>count</th>\n",
       "      <td>51167</td>\n",
       "      <td>51167</td>\n",
       "      <td>51167</td>\n",
       "      <td>51167</td>\n",
       "      <td>51167</td>\n",
       "      <td>51167</td>\n",
       "      <td>51167</td>\n",
       "    </tr>\n",
       "    <tr>\n",
       "      <th>unique</th>\n",
       "      <td>51167</td>\n",
       "      <td>8726</td>\n",
       "      <td>2</td>\n",
       "      <td>2</td>\n",
       "      <td>35</td>\n",
       "      <td>9</td>\n",
       "      <td>7</td>\n",
       "    </tr>\n",
       "    <tr>\n",
       "      <th>top</th>\n",
       "      <td>https://www.zomato.com/bangalore/jalsa-banasha...</td>\n",
       "      <td>Cafe Coffee Day</td>\n",
       "      <td>Yes</td>\n",
       "      <td>No</td>\n",
       "      <td>Others</td>\n",
       "      <td>Quick Bites</td>\n",
       "      <td>Delivery</td>\n",
       "    </tr>\n",
       "    <tr>\n",
       "      <th>freq</th>\n",
       "      <td>1</td>\n",
       "      <td>96</td>\n",
       "      <td>30327</td>\n",
       "      <td>44718</td>\n",
       "      <td>8021</td>\n",
       "      <td>19048</td>\n",
       "      <td>25669</td>\n",
       "    </tr>\n",
       "  </tbody>\n",
       "</table>\n",
       "</div>"
      ],
      "text/plain": [
       "                                                      url             name  \\\n",
       "count                                               51167            51167   \n",
       "unique                                              51167             8726   \n",
       "top     https://www.zomato.com/bangalore/jalsa-banasha...  Cafe Coffee Day   \n",
       "freq                                                    1               96   \n",
       "\n",
       "       online_order book_table location    rest_type listed_in(type)  \n",
       "count         51167      51167    51167        51167           51167  \n",
       "unique            2          2       35            9               7  \n",
       "top             Yes         No   Others  Quick Bites        Delivery  \n",
       "freq          30327      44718     8021        19048           25669  "
      ]
     },
     "execution_count": 26,
     "metadata": {},
     "output_type": "execute_result"
    }
   ],
   "source": [
    "df.describe(include=object)"
   ]
  },
  {
   "cell_type": "code",
   "execution_count": 27,
   "id": "8f1fafcb",
   "metadata": {
    "execution": {
     "iopub.execute_input": "2023-01-05T11:07:58.022773Z",
     "iopub.status.busy": "2023-01-05T11:07:58.021357Z",
     "iopub.status.idle": "2023-01-05T11:07:58.053509Z",
     "shell.execute_reply": "2023-01-05T11:07:58.052156Z"
    },
    "papermill": {
     "duration": 0.053794,
     "end_time": "2023-01-05T11:07:58.056206",
     "exception": false,
     "start_time": "2023-01-05T11:07:58.002412",
     "status": "completed"
    },
    "tags": []
   },
   "outputs": [
    {
     "data": {
      "text/html": [
       "<div>\n",
       "<style scoped>\n",
       "    .dataframe tbody tr th:only-of-type {\n",
       "        vertical-align: middle;\n",
       "    }\n",
       "\n",
       "    .dataframe tbody tr th {\n",
       "        vertical-align: top;\n",
       "    }\n",
       "\n",
       "    .dataframe thead th {\n",
       "        text-align: right;\n",
       "    }\n",
       "</style>\n",
       "<table border=\"1\" class=\"dataframe\">\n",
       "  <thead>\n",
       "    <tr style=\"text-align: right;\">\n",
       "      <th></th>\n",
       "      <th>rate</th>\n",
       "      <th>loc_count</th>\n",
       "    </tr>\n",
       "    <tr>\n",
       "      <th>location</th>\n",
       "      <th></th>\n",
       "      <th></th>\n",
       "    </tr>\n",
       "  </thead>\n",
       "  <tbody>\n",
       "    <tr>\n",
       "      <th>Others</th>\n",
       "      <td>3.655030</td>\n",
       "      <td>8021</td>\n",
       "    </tr>\n",
       "    <tr>\n",
       "      <th>BTM</th>\n",
       "      <td>3.601742</td>\n",
       "      <td>5071</td>\n",
       "    </tr>\n",
       "    <tr>\n",
       "      <th>HSR</th>\n",
       "      <td>3.682783</td>\n",
       "      <td>2496</td>\n",
       "    </tr>\n",
       "    <tr>\n",
       "      <th>Koramangala 5th Block</th>\n",
       "      <td>3.983951</td>\n",
       "      <td>2481</td>\n",
       "    </tr>\n",
       "    <tr>\n",
       "      <th>JP Nagar</th>\n",
       "      <td>3.682798</td>\n",
       "      <td>2219</td>\n",
       "    </tr>\n",
       "    <tr>\n",
       "      <th>Whitefield</th>\n",
       "      <td>3.644093</td>\n",
       "      <td>2117</td>\n",
       "    </tr>\n",
       "    <tr>\n",
       "      <th>Indiranagar</th>\n",
       "      <td>3.817710</td>\n",
       "      <td>2033</td>\n",
       "    </tr>\n",
       "    <tr>\n",
       "      <th>Jayanagar</th>\n",
       "      <td>3.768438</td>\n",
       "      <td>1916</td>\n",
       "    </tr>\n",
       "    <tr>\n",
       "      <th>Marathahalli</th>\n",
       "      <td>3.581215</td>\n",
       "      <td>1811</td>\n",
       "    </tr>\n",
       "    <tr>\n",
       "      <th>Bannerghatta Road</th>\n",
       "      <td>3.555415</td>\n",
       "      <td>1611</td>\n",
       "    </tr>\n",
       "  </tbody>\n",
       "</table>\n",
       "</div>"
      ],
      "text/plain": [
       "                           rate  loc_count\n",
       "location                                  \n",
       "Others                 3.655030       8021\n",
       "BTM                    3.601742       5071\n",
       "HSR                    3.682783       2496\n",
       "Koramangala 5th Block  3.983951       2481\n",
       "JP Nagar               3.682798       2219\n",
       "Whitefield             3.644093       2117\n",
       "Indiranagar            3.817710       2033\n",
       "Jayanagar              3.768438       1916\n",
       "Marathahalli           3.581215       1811\n",
       "Bannerghatta Road      3.555415       1611"
      ]
     },
     "execution_count": 27,
     "metadata": {},
     "output_type": "execute_result"
    }
   ],
   "source": [
    "pd.set_option(\"display.max.rows\", None)\n",
    "c = df.groupby('location')['rate'].mean()\n",
    "loc_df = pd.DataFrame(c)\n",
    "loc_df['loc_count'] = df['location'].value_counts()\n",
    "loc_df.sort_values(by=['loc_count', 'rate'],ascending=False).head(10)"
   ]
  },
  {
   "cell_type": "code",
   "execution_count": 28,
   "id": "d239d81f",
   "metadata": {
    "execution": {
     "iopub.execute_input": "2023-01-05T11:07:58.092520Z",
     "iopub.status.busy": "2023-01-05T11:07:58.091739Z",
     "iopub.status.idle": "2023-01-05T11:07:58.609417Z",
     "shell.execute_reply": "2023-01-05T11:07:58.608021Z"
    },
    "papermill": {
     "duration": 0.538634,
     "end_time": "2023-01-05T11:07:58.612163",
     "exception": false,
     "start_time": "2023-01-05T11:07:58.073529",
     "status": "completed"
    },
    "tags": []
   },
   "outputs": [
    {
     "name": "stdout",
     "output_type": "stream",
     "text": [
      "BTM is the best location based on number of restaurants since Other category is a mix of location with count less than 500\n"
     ]
    },
    {
     "data": {
      "image/png": "[encoded data removed]",
      "text/plain": [
       "<Figure size 1080x576 with 1 Axes>"
      ]
     },
     "metadata": {
      "needs_background": "light"
     },
     "output_type": "display_data"
    }
   ],
   "source": [
    "import seaborn as sns\n",
    "import matplotlib.pyplot as plt\n",
    "\n",
    "plt.figure(figsize=(15,8))\n",
    "\n",
    "df[\"location\"].value_counts().plot(kind=\"bar\") #top 10 locations based on counts\n",
    "\n",
    "print('BTM is the best location based on number of restaurants since Other category is a mix of location with count less than 500')"
   ]
  },
  {
   "cell_type": "markdown",
   "id": "d13f6ddf",
   "metadata": {
    "papermill": {
     "duration": 0.017877,
     "end_time": "2023-01-05T11:07:58.648347",
     "exception": false,
     "start_time": "2023-01-05T11:07:58.630470",
     "status": "completed"
    },
    "tags": []
   },
   "source": [
    "**Relation between Location and Rating**"
   ]
  },
  {
   "cell_type": "code",
   "execution_count": 29,
   "id": "c6c61cfa",
   "metadata": {
    "execution": {
     "iopub.execute_input": "2023-01-05T11:07:58.687117Z",
     "iopub.status.busy": "2023-01-05T11:07:58.685863Z",
     "iopub.status.idle": "2023-01-05T11:08:03.595303Z",
     "shell.execute_reply": "2023-01-05T11:08:03.594055Z"
    },
    "papermill": {
     "duration": 4.933412,
     "end_time": "2023-01-05T11:08:03.599691",
     "exception": false,
     "start_time": "2023-01-05T11:07:58.666279",
     "status": "completed"
    },
    "tags": []
   },
   "outputs": [
    {
     "data": {
      "image/png": "[encoded data removed]",
      "text/plain": [
       "<Figure size 1080x576 with 1 Axes>"
      ]
     },
     "metadata": {
      "needs_background": "light"
     },
     "output_type": "display_data"
    }
   ],
   "source": [
    "plt.figure(figsize=(15,8))\n",
    "sns.scatterplot(data=df, x='location', y='rate', hue = 'rate')\n",
    "plt.xticks(rotation=90)\n",
    "plt.grid()"
   ]
  },
  {
   "cell_type": "markdown",
   "id": "7ce751f7",
   "metadata": {
    "papermill": {
     "duration": 0.019285,
     "end_time": "2023-01-05T11:08:03.638630",
     "exception": false,
     "start_time": "2023-01-05T11:08:03.619345",
     "status": "completed"
    },
    "tags": []
   },
   "source": [
    "**Restaurant Type**"
   ]
  },
  {
   "cell_type": "code",
   "execution_count": 30,
   "id": "337d109e",
   "metadata": {
    "execution": {
     "iopub.execute_input": "2023-01-05T11:08:03.679314Z",
     "iopub.status.busy": "2023-01-05T11:08:03.678891Z",
     "iopub.status.idle": "2023-01-05T11:08:03.691609Z",
     "shell.execute_reply": "2023-01-05T11:08:03.690379Z"
    },
    "papermill": {
     "duration": 0.035956,
     "end_time": "2023-01-05T11:08:03.694028",
     "exception": false,
     "start_time": "2023-01-05T11:08:03.658072",
     "status": "completed"
    },
    "tags": []
   },
   "outputs": [
    {
     "data": {
      "text/plain": [
       "Quick Bites           19048\n",
       "Casual Dining         10275\n",
       "Others                 9032\n",
       "Cafe                   3687\n",
       "Delivery               2587\n",
       "Dessert Parlor         2245\n",
       "Takeaway, Delivery     2016\n",
       "Bakery                 1141\n",
       "Casual Dining, Bar     1136\n",
       "Name: rest_type, dtype: int64"
      ]
     },
     "execution_count": 30,
     "metadata": {},
     "output_type": "execute_result"
    }
   ],
   "source": [
    "df['rest_type'].value_counts()"
   ]
  },
  {
   "cell_type": "code",
   "execution_count": 31,
   "id": "e099819f",
   "metadata": {
    "execution": {
     "iopub.execute_input": "2023-01-05T11:08:03.735238Z",
     "iopub.status.busy": "2023-01-05T11:08:03.734814Z",
     "iopub.status.idle": "2023-01-05T11:08:03.970845Z",
     "shell.execute_reply": "2023-01-05T11:08:03.969663Z"
    },
    "papermill": {
     "duration": 0.260097,
     "end_time": "2023-01-05T11:08:03.973718",
     "exception": false,
     "start_time": "2023-01-05T11:08:03.713621",
     "status": "completed"
    },
    "tags": []
   },
   "outputs": [
    {
     "data": {
      "image/png": "[encoded data removed]",
      "text/plain": [
       "<Figure size 720x576 with 1 Axes>"
      ]
     },
     "metadata": {
      "needs_background": "light"
     },
     "output_type": "display_data"
    }
   ],
   "source": [
    "fig , ax = plt.subplots(figsize=(10,8))\n",
    "df['rest_type'].value_counts().plot(kind=\"barh\",color = sns.color_palette(\"dark\"))\n",
    "plt.title(\"Restaurant Types\")\n",
    "plt.grid(axis = 'x')\n"
   ]
  },
  {
   "cell_type": "markdown",
   "id": "f7c1cf2a",
   "metadata": {
    "papermill": {
     "duration": 0.020232,
     "end_time": "2023-01-05T11:08:04.014370",
     "exception": false,
     "start_time": "2023-01-05T11:08:03.994138",
     "status": "completed"
    },
    "tags": []
   },
   "source": [
    "**Types of Services**"
   ]
  },
  {
   "cell_type": "code",
   "execution_count": 32,
   "id": "ed9e2d56",
   "metadata": {
    "execution": {
     "iopub.execute_input": "2023-01-05T11:08:04.058330Z",
     "iopub.status.busy": "2023-01-05T11:08:04.057476Z",
     "iopub.status.idle": "2023-01-05T11:08:04.798317Z",
     "shell.execute_reply": "2023-01-05T11:08:04.797067Z"
    },
    "papermill": {
     "duration": 0.766253,
     "end_time": "2023-01-05T11:08:04.801249",
     "exception": false,
     "start_time": "2023-01-05T11:08:04.034996",
     "status": "completed"
    },
    "tags": []
   },
   "outputs": [
    {
     "data": {
      "image/png": "[encoded data removed]",
      "text/plain": [
       "<Figure size 1584x576 with 1 Axes>"
      ]
     },
     "metadata": {
      "needs_background": "light"
     },
     "output_type": "display_data"
    }
   ],
   "source": [
    "plt.figure(figsize=(22,8))\n",
    "ax= sns.countplot(x = df['listed_in(type)'])\n",
    "plt.xticks(rotation=90)\n",
    "plt.show()"
   ]
  },
  {
   "cell_type": "markdown",
   "id": "4cf83288",
   "metadata": {
    "papermill": {
     "duration": 0.020691,
     "end_time": "2023-01-05T11:08:04.843511",
     "exception": false,
     "start_time": "2023-01-05T11:08:04.822820",
     "status": "completed"
    },
    "tags": []
   },
   "source": [
    "**Relation between Type and Rating**"
   ]
  },
  {
   "cell_type": "code",
   "execution_count": 33,
   "id": "cbaa3237",
   "metadata": {
    "execution": {
     "iopub.execute_input": "2023-01-05T11:08:04.887729Z",
     "iopub.status.busy": "2023-01-05T11:08:04.887279Z",
     "iopub.status.idle": "2023-01-05T11:08:05.903735Z",
     "shell.execute_reply": "2023-01-05T11:08:05.902184Z"
    },
    "papermill": {
     "duration": 1.04167,
     "end_time": "2023-01-05T11:08:05.906326",
     "exception": false,
     "start_time": "2023-01-05T11:08:04.864656",
     "status": "completed"
    },
    "tags": []
   },
   "outputs": [
    {
     "data": {
      "image/png": "[encoded data removed]",
      "text/plain": [
       "<Figure size 1080x576 with 1 Axes>"
      ]
     },
     "metadata": {
      "needs_background": "light"
     },
     "output_type": "display_data"
    }
   ],
   "source": [
    "pd.crosstab(df['rate'],df['listed_in(type)']).plot(kind='bar', stacked = True, figsize=(15,8));\n",
    "plt.title('Relation between Type and Rating',loc = 'right')\n",
    "plt.xlabel('Rating')\n",
    "plt.grid()"
   ]
  },
  {
   "cell_type": "markdown",
   "id": "5012e3df",
   "metadata": {
    "papermill": {
     "duration": 0.021002,
     "end_time": "2023-01-05T11:08:05.948138",
     "exception": false,
     "start_time": "2023-01-05T11:08:05.927136",
     "status": "completed"
    },
    "tags": []
   },
   "source": [
    "**Cost of Restaurant**"
   ]
  },
  {
   "cell_type": "code",
   "execution_count": 34,
   "id": "22569695",
   "metadata": {
    "execution": {
     "iopub.execute_input": "2023-01-05T11:08:05.992308Z",
     "iopub.status.busy": "2023-01-05T11:08:05.991186Z",
     "iopub.status.idle": "2023-01-05T11:08:06.005301Z",
     "shell.execute_reply": "2023-01-05T11:08:06.004454Z"
    },
    "papermill": {
     "duration": 0.038486,
     "end_time": "2023-01-05T11:08:06.007364",
     "exception": false,
     "start_time": "2023-01-05T11:08:05.968878",
     "status": "completed"
    },
    "tags": []
   },
   "outputs": [
    {
     "data": {
      "text/plain": [
       "300.0     7549\n",
       "400.0     6525\n",
       "500.0     4940\n",
       "200.0     4846\n",
       "600.0     3693\n",
       "250.0     2943\n",
       "800.0     2285\n",
       "150.0     2050\n",
       "700.0     1939\n",
       "350.0     1752\n",
       "1000.0    1633\n",
       "450.0     1415\n",
       "1200.0     993\n",
       "100.0      993\n",
       "1500.0     971\n",
       "650.0      772\n",
       "750.0      758\n",
       "550.0      757\n",
       "900.0      698\n",
       "1300.0     516\n",
       "1100.0     512\n",
       "1400.0     473\n",
       "2000.0     363\n",
       "1600.0     266\n",
       "1700.0     247\n",
       "1800.0     203\n",
       "850.0      166\n",
       "3000.0     162\n",
       "2500.0     146\n",
       "2200.0      78\n",
       "1900.0      70\n",
       "2100.0      67\n",
       "950.0       62\n",
       "2800.0      45\n",
       "4000.0      29\n",
       "3500.0      25\n",
       "120.0       24\n",
       "2400.0      23\n",
       "180.0       20\n",
       "1350.0      18\n",
       "3400.0      13\n",
       "2300.0      11\n",
       "2600.0      10\n",
       "80.0        10\n",
       "230.0       10\n",
       "1250.0       9\n",
       "40.0         8\n",
       "50.0         8\n",
       "130.0        8\n",
       "1650.0       6\n",
       "1450.0       5\n",
       "199.0        4\n",
       "330.0        4\n",
       "4100.0       4\n",
       "1050.0       4\n",
       "2700.0       3\n",
       "70.0         3\n",
       "6000.0       2\n",
       "4500.0       2\n",
       "190.0        2\n",
       "360.0        2\n",
       "240.0        2\n",
       "3200.0       2\n",
       "140.0        2\n",
       "560.0        1\n",
       "60.0         1\n",
       "5000.0       1\n",
       "3700.0       1\n",
       "469.0        1\n",
       "160.0        1\n",
       "Name: approx_cost(for two people), dtype: int64"
      ]
     },
     "execution_count": 34,
     "metadata": {},
     "output_type": "execute_result"
    }
   ],
   "source": [
    "df['approx_cost(for two people)'].value_counts()"
   ]
  },
  {
   "cell_type": "code",
   "execution_count": 35,
   "id": "5c98137a",
   "metadata": {
    "execution": {
     "iopub.execute_input": "2023-01-05T11:08:06.052483Z",
     "iopub.status.busy": "2023-01-05T11:08:06.051646Z",
     "iopub.status.idle": "2023-01-05T11:08:06.956871Z",
     "shell.execute_reply": "2023-01-05T11:08:06.955722Z"
    },
    "papermill": {
     "duration": 0.930656,
     "end_time": "2023-01-05T11:08:06.959417",
     "exception": false,
     "start_time": "2023-01-05T11:08:06.028761",
     "status": "completed"
    },
    "tags": []
   },
   "outputs": [
    {
     "data": {
      "text/plain": [
       "Text(0.5, 1.0, 'Average cost(2 people) - Top 10 Restaurants')"
      ]
     },
     "execution_count": 35,
     "metadata": {},
     "output_type": "execute_result"
    },
    {
     "data": {
      "image/png": "[encoded data removed]",
      "text/plain": [
       "<Figure size 720x576 with 1 Axes>"
      ]
     },
     "metadata": {
      "needs_background": "light"
     },
     "output_type": "display_data"
    }
   ],
   "source": [
    "res_cost = df['approx_cost(for two people)'].groupby(df['name'],sort=True)\n",
    "dict_1={}\n",
    "for i,j in df['name'].value_counts()[:10].to_dict().items():\n",
    "    dict_1[i]=round(res_cost.get_group(i).mean(),2)\n",
    "cost_df = pd.DataFrame(list(dict_1.items()),columns=['Restaurant Name',\"avg_2_people_cost\"])\n",
    "\n",
    "\n",
    "fig , ax = plt.subplots(figsize=(10,8))\n",
    "sns.barplot(data = cost_df.sort_values(by=['avg_2_people_cost'],ascending=False),\n",
    "            x = 'avg_2_people_cost',y = 'Restaurant Name',palette=sns.blend_palette(colors, n_colors=10))\n",
    "plt.title('Average cost(2 people) - Top 10 Restaurants')"
   ]
  },
  {
   "cell_type": "markdown",
   "id": "00012d4e",
   "metadata": {
    "papermill": {
     "duration": 0.021292,
     "end_time": "2023-01-05T11:08:07.002341",
     "exception": false,
     "start_time": "2023-01-05T11:08:06.981049",
     "status": "completed"
    },
    "tags": []
   },
   "source": [
    "**No. of restaurants in a Location**"
   ]
  },
  {
   "cell_type": "code",
   "execution_count": 36,
   "id": "55ea9d67",
   "metadata": {
    "execution": {
     "iopub.execute_input": "2023-01-05T11:08:07.048892Z",
     "iopub.status.busy": "2023-01-05T11:08:07.048031Z",
     "iopub.status.idle": "2023-01-05T11:08:07.788160Z",
     "shell.execute_reply": "2023-01-05T11:08:07.786953Z"
    },
    "papermill": {
     "duration": 0.766352,
     "end_time": "2023-01-05T11:08:07.790571",
     "exception": false,
     "start_time": "2023-01-05T11:08:07.024219",
     "status": "completed"
    },
    "tags": []
   },
   "outputs": [
    {
     "data": {
      "image/png": "[encoded data removed]",
      "text/plain": [
       "<Figure size 1440x576 with 1 Axes>"
      ]
     },
     "metadata": {
      "needs_background": "light"
     },
     "output_type": "display_data"
    }
   ],
   "source": [
    "df['location'].value_counts().plot(kind='bar',figsize=(20,8),color = sns.color_palette(\"dark\"))\n",
    "plt.title('Number of Restaurants in a location - Top 10')\n",
    "plt.grid(axis = 'y')"
   ]
  },
  {
   "cell_type": "markdown",
   "id": "bb37d9e1",
   "metadata": {
    "papermill": {
     "duration": 0.02219,
     "end_time": "2023-01-05T11:08:07.835582",
     "exception": false,
     "start_time": "2023-01-05T11:08:07.813392",
     "status": "completed"
    },
    "tags": []
   },
   "source": [
    "**Most famous restaurant chains in Bengaluru**"
   ]
  },
  {
   "cell_type": "code",
   "execution_count": 37,
   "id": "74bc8d72",
   "metadata": {
    "execution": {
     "iopub.execute_input": "2023-01-05T11:08:07.883553Z",
     "iopub.status.busy": "2023-01-05T11:08:07.883101Z",
     "iopub.status.idle": "2023-01-05T11:08:08.776686Z",
     "shell.execute_reply": "2023-01-05T11:08:08.775367Z"
    },
    "papermill": {
     "duration": 0.921773,
     "end_time": "2023-01-05T11:08:08.779809",
     "exception": false,
     "start_time": "2023-01-05T11:08:07.858036",
     "status": "completed"
    },
    "tags": []
   },
   "outputs": [
    {
     "data": {
      "image/png": "[encoded data removed]",
      "text/plain": [
       "<Figure size 720x576 with 1 Axes>"
      ]
     },
     "metadata": {
      "needs_background": "light"
     },
     "output_type": "display_data"
    }
   ],
   "source": [
    "res_chain = df['rate'].groupby(df['name'],sort=True)\n",
    "dict_2={}\n",
    "for i,j in df['name'].value_counts()[:10].to_dict().items():\n",
    "    dict_2[i]=round(res_chain.get_group(i).mean(),2)\n",
    "cost_df2 = pd.DataFrame(list(dict_2.items()),columns=['Restaurant Name',\"avg_rating\"])\n",
    "\n",
    "\n",
    "fig , ax = plt.subplots(figsize=(10,8))\n",
    "sns.barplot(data = cost_df2.sort_values(by=['avg_rating'],ascending=False),\n",
    "            x = 'avg_rating',y = 'Restaurant Name',palette=sns.blend_palette(colors, n_colors=10))\n",
    "plt.title('Top 10 Restaurants by Average Ratings')\n",
    "plt.grid(axis = 'x')"
   ]
  },
  {
   "cell_type": "markdown",
   "id": "6e0192f7",
   "metadata": {
    "papermill": {
     "duration": 0.024098,
     "end_time": "2023-01-05T11:08:08.827715",
     "exception": false,
     "start_time": "2023-01-05T11:08:08.803617",
     "status": "completed"
    },
    "tags": []
   },
   "source": [
    "**Top 10 by Value counts**"
   ]
  },
  {
   "cell_type": "code",
   "execution_count": 38,
   "id": "495560eb",
   "metadata": {
    "execution": {
     "iopub.execute_input": "2023-01-05T11:08:08.877603Z",
     "iopub.status.busy": "2023-01-05T11:08:08.876553Z",
     "iopub.status.idle": "2023-01-05T11:08:09.132367Z",
     "shell.execute_reply": "2023-01-05T11:08:09.131101Z"
    },
    "papermill": {
     "duration": 0.284117,
     "end_time": "2023-01-05T11:08:09.135275",
     "exception": false,
     "start_time": "2023-01-05T11:08:08.851158",
     "status": "completed"
    },
    "tags": []
   },
   "outputs": [
    {
     "data": {
      "text/plain": [
       "(array([0, 1, 2, 3, 4, 5, 6, 7, 8, 9]),\n",
       " [Text(0, 0, 'Cafe Coffee Day'),\n",
       "  Text(1, 0, 'Onesta'),\n",
       "  Text(2, 0, 'Just Bake'),\n",
       "  Text(3, 0, 'Empire Restaurant'),\n",
       "  Text(4, 0, 'Five Star Chicken'),\n",
       "  Text(5, 0, 'Kanti Sweets'),\n",
       "  Text(6, 0, 'Petoo'),\n",
       "  Text(7, 0, 'Polar Bear'),\n",
       "  Text(8, 0, 'Baskin Robbins'),\n",
       "  Text(9, 0, 'Pizza Hut')])"
      ]
     },
     "execution_count": 38,
     "metadata": {},
     "output_type": "execute_result"
    },
    {
     "data": {
      "image/png": "[encoded data removed]",
      "text/plain": [
       "<Figure size 720x504 with 1 Axes>"
      ]
     },
     "metadata": {
      "needs_background": "light"
     },
     "output_type": "display_data"
    }
   ],
   "source": [
    "plt.figure(figsize=(10,7))\n",
    "df['name'].value_counts()[:10].plot(kind = 'bar', color = sns.color_palette(\"Paired\"))\n",
    "plt.title('Top 10 Restaurant Chains in Bangalore by number of outlets')\n",
    "plt.xlabel('Restaurant name')\n",
    "plt.ylabel(\"No of Outlets\")\n",
    "plt.grid(axis = 'y')\n",
    "plt.xticks(rotation = 45)"
   ]
  },
  {
   "cell_type": "markdown",
   "id": "321ad478",
   "metadata": {
    "papermill": {
     "duration": 0.02276,
     "end_time": "2023-01-05T11:08:09.181396",
     "exception": false,
     "start_time": "2023-01-05T11:08:09.158636",
     "status": "completed"
    },
    "tags": []
   },
   "source": [
    "*********************************"
   ]
  }
 ],
 "metadata": {
  "kernelspec": {
   "display_name": "Python 3",
   "language": "python",
   "name": "python3"
  },
  "language_info": {
   "codemirror_mode": {
    "name": "ipython",
    "version": 3
   },
   "file_extension": ".py",
   "mimetype": "text/x-python",
   "name": "python",
   "nbconvert_exporter": "python",
   "pygments_lexer": "ipython3",
   "version": "3.7.12"
  },
  "papermill": {
   "default_parameters": {},
   "duration": 37.908196,
   "end_time": "2023-01-05T11:08:10.428879",
   "environment_variables": {},
   "exception": null,
   "input_path": "__notebook__.ipynb",
   "output_path": "__notebook__.ipynb",
   "parameters": {},
   "start_time": "2023-01-05T11:07:32.520683",
   "version": "2.3.4"
  }
 },
 "nbformat": 4,
 "nbformat_minor": 5
}
